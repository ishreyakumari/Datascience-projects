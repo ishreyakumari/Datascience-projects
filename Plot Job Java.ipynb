{
 "cells": [
  {
   "cell_type": "markdown",
   "metadata": {},
   "source": [
    "Plot the scatter graph between year vs No. of jobs opening related to Java.\n",
    "Print the year and number of Jobs opening in Java Profile."
   ]
  },
  {
   "cell_type": "code",
   "execution_count": 54,
   "metadata": {},
   "outputs": [
    {
     "name": "stdout",
     "output_type": "stream",
     "text": [
      "2012 6\n",
      "2013 2\n",
      "2014 4\n",
      "2015 25\n",
      "2016 95\n",
      "2017 1093\n",
      "2018 1210\n"
     ]
    },
    {
     "data": {
      "image/png": "[encoded data removed]",
      "text/plain": [
       "<Figure size 432x288 with 1 Axes>"
      ]
     },
     "metadata": {
      "needs_background": "light"
     },
     "output_type": "display_data"
    }
   ],
   "source": [
    "import pandas as pd\n",
    "import numpy as np\n",
    "import matplotlib.pyplot as plt\n",
    "def function2(basic):\n",
    "    if ((\"Java\" in basic) or (\"java\" in basic)):\n",
    "        return True\n",
    "    return False\n",
    "\n",
    "def function(date):\n",
    "    return int((date.split(\",\")[1]).strip())\n",
    "\n",
    "amazon=pd.read_csv(\"amazon_jobs_dataset.csv\")\n",
    "df=amazon.copy()\n",
    "df[\"BASIC QUALIFICATIONS\"]=df[\"BASIC QUALIFICATIONS\"].fillna(\"\")\n",
    "df=df[df[\"BASIC QUALIFICATIONS\"].apply(function2)]\n",
    "df[\"Year\"]=df[\"Posting_date\"].apply(function)\n",
    "job=df[\"Year\"].value_counts()\n",
    "x=job.index\n",
    "y=job.values\n",
    "x1=x.sort_values()\n",
    "for i in range(x1.size):\n",
    "    indi=np.where(x==x1[i])\n",
    "    print(x1[i],y[indi][0])\n",
    "plt.scatter(x,y)\n",
    "plt.show()"
   ]
  },
  {
   "cell_type": "code",
   "execution_count": null,
   "metadata": {},
   "outputs": [],
   "source": []
  }
 ],
 "metadata": {
  "kernelspec": {
   "display_name": "Python 3",
   "language": "python",
   "name": "python3"
  },
  "language_info": {
   "codemirror_mode": {
    "name": "ipython",
    "version": 3
   },
   "file_extension": ".py",
   "mimetype": "text/x-python",
   "name": "python",
   "nbconvert_exporter": "python",
   "pygments_lexer": "ipython3",
   "version": "3.8.3"
  }
 },
 "nbformat": 4,
 "nbformat_minor": 4
}
