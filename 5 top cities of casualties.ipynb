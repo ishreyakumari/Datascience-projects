{
 "cells": [
  {
   "cell_type": "markdown",
   "metadata": {},
   "source": [
    "Find top 5 Indian Cities which has most number of casualties ?\n",
    "Print top 5 cities along with total casualties in that city."
   ]
  },
  {
   "cell_type": "code",
   "execution_count": 29,
   "metadata": {},
   "outputs": [
    {
     "name": "stdout",
     "output_type": "stream",
     "text": [
      "[['Baghdad']\n",
      " ['Unknown']\n",
      " ['New York City']\n",
      " ['Mosul']\n",
      " ['Karachi']\n",
      " ['Mogadishu']]\n",
      "['Baghdad'] 77876\n",
      "['New York City'] 19619\n",
      "['Mosul'] 12927\n",
      "['Karachi'] 9376\n",
      "['Mogadishu'] 8868\n"
     ]
    }
   ],
   "source": [
    "import csv\n",
    "import  numpy as np\n",
    "with open('terrorismData.csv',encoding='utf-8') as file_obj:\n",
    "    file_data=csv.DictReader(file_obj,skipinitialspace=True)\n",
    "    killed=[]\n",
    "    wounded=[]\n",
    "    cities=[]\n",
    "    country=[]\n",
    "    for i in file_data:\n",
    "        #print(i)\n",
    "        killed.append(i[\"Killed\"])\n",
    "        wounded.append(i[\"Wounded\"])\n",
    "        cities.append(i[\"City\"])\n",
    "        country.append(i[\"Country\"])\n",
    "    killed=np.array(killed)\n",
    "    killed[killed=='']='0.0'\n",
    "    killed=np.array(killed,dtype=float)\n",
    "    killed=np.array(killed,dtype=int)\n",
    "    wounded=np.array(wounded)\n",
    "    wounded[wounded=='']='0.0'\n",
    "    wounded=np.array(wounded,dtype=float)\n",
    "    wounded=np.array(wounded,dtype=int)\n",
    "    cities=np.array(cities)\n",
    "    casualties=killed+wounded\n",
    "    casual_count=[]\n",
    "    city=np.unique(cities)\n",
    "    for i in city:\n",
    "        casual_count.append(np.sum(casualties[np.where(cities==i)]))\n",
    "    casual_count=np.array(casual_count)\n",
    "    casual_count2=np.sort(casual_count)[-1:-7:-1]    \n",
    "    city2=[]\n",
    "    for i in casual_count2:\n",
    "        city2.append(city[np.where(casual_count==i)])\n",
    "    city2=np.array(city2)    \n",
    "    for i in range(6):\n",
    "        if city2[i]==\"Unknown\":\n",
    "            pass\n",
    "        else:\n",
    "            print(city2[i],casual_count2[i])"
   ]
  },
  {
   "cell_type": "code",
   "execution_count": null,
   "metadata": {},
   "outputs": [],
   "source": []
  }
 ],
 "metadata": {
  "kernelspec": {
   "display_name": "Python 3",
   "language": "python",
   "name": "python3"
  },
  "language_info": {
   "codemirror_mode": {
    "name": "ipython",
    "version": 3
   },
   "file_extension": ".py",
   "mimetype": "text/x-python",
   "name": "python",
   "nbconvert_exporter": "python",
   "pygments_lexer": "ipython3",
   "version": "3.8.3"
  }
 },
 "nbformat": 4,
 "nbformat_minor": 4
}
