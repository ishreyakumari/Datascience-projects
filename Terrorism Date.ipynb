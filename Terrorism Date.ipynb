{
 "cells": [
  {
   "cell_type": "markdown",
   "metadata": {},
   "source": [
    "Find the number of attack held between 1 Jan 2010 and 31 Jan 2010?(including both date)."
   ]
  },
  {
   "cell_type": "code",
   "execution_count": 9,
   "metadata": {},
   "outputs": [
    {
     "name": "stdout",
     "output_type": "stream",
     "text": [
      "271\n"
     ]
    }
   ],
   "source": [
    "import csv\n",
    "import numpy as np\n",
    "with open(\"terrorismData.csv\",encoding='utf-8') as file_obj:\n",
    "    file_data = csv.DictReader(file_obj,skipinitialspace=True)\n",
    "    day=[]\n",
    "    month=[]\n",
    "    year=[]\n",
    "    \n",
    "    for i in file_data:\n",
    "        day.append(i[\"Day\"])\n",
    "        month.append(i[\"Month\"])\n",
    "        year.append(i[\"Year\"])\n",
    "    day=np.array(day,dtype=int)\n",
    "    month=np.array(month,dtype=int)\n",
    "    year=np.array(year,dtype=int)\n",
    "    day=day[((day>=1) & (day<=31)) & (month==1) & (year==2010)]\n",
    "    print(day.size)"
   ]
  },
  {
   "cell_type": "code",
   "execution_count": null,
   "metadata": {},
   "outputs": [],
   "source": []
  }
 ],
 "metadata": {
  "kernelspec": {
   "display_name": "Python 3",
   "language": "python",
   "name": "python3"
  },
  "language_info": {
   "codemirror_mode": {
    "name": "ipython",
    "version": 3
   },
   "file_extension": ".py",
   "mimetype": "text/x-python",
   "name": "python",
   "nbconvert_exporter": "python",
   "pygments_lexer": "ipython3",
   "version": "3.8.3"
  }
 },
 "nbformat": 4,
 "nbformat_minor": 4
}
