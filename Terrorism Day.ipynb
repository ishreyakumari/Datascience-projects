{
 "cells": [
  {
   "cell_type": "markdown",
   "metadata": {},
   "source": [
    "Find the number of attack held between day 10 and day 20?(ignoring the year and month)(including both day)\n",
    "Print count of NumberOFAttack as integer value."
   ]
  },
  {
   "cell_type": "code",
   "execution_count": 23,
   "metadata": {},
   "outputs": [
    {
     "name": "stdout",
     "output_type": "stream",
     "text": [
      "66330\n"
     ]
    }
   ],
   "source": [
    "import csv\n",
    "import numpy as np\n",
    "with open(\"terrorismData.csv\",encoding='utf-8') as file_obj:\n",
    "    file_data=csv.DictReader(file_obj,skipinitialspace=True)\n",
    "    day=[]\n",
    "    for i in file_data:\n",
    "        day.append(i[\"Day\"])\n",
    "    day=np.array(day,dtype=int)\n",
    "    day=day[(day>=10) & (day<=20)]\n",
    "    print(day.size)\n"
   ]
  },
  {
   "cell_type": "code",
   "execution_count": null,
   "metadata": {},
   "outputs": [],
   "source": []
  }
 ],
 "metadata": {
  "kernelspec": {
   "display_name": "Python 3",
   "language": "python",
   "name": "python3"
  },
  "language_info": {
   "codemirror_mode": {
    "name": "ipython",
    "version": 3
   },
   "file_extension": ".py",
   "mimetype": "text/x-python",
   "name": "python",
   "nbconvert_exporter": "python",
   "pygments_lexer": "ipython3",
   "version": "3.8.3"
  }
 },
 "nbformat": 4,
 "nbformat_minor": 4
}
