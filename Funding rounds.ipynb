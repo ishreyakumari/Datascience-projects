{
 "cells": [
  {
   "cell_type": "markdown",
   "metadata": {},
   "source": [
    "Find the top 5 startups who received the most number of funding rounds. That means, startups which got fundings maximum number of times.\n",
    "Print the startup name in descending order with respect to the number of funding round as integer value."
   ]
  },
  {
   "cell_type": "code",
   "execution_count": 21,
   "metadata": {},
   "outputs": [
    {
     "name": "stdout",
     "output_type": "stream",
     "text": [
      "Ola 9\n",
      "Swiggy 7\n",
      "Paytm 6\n",
      "Oyo 6\n",
      "UrbanClap 6\n"
     ]
    }
   ],
   "source": [
    "import pandas as pd\n",
    "startup=pd.read_csv(\"startup_funding.csv\")\n",
    "df=startup.copy()\n",
    "df[\"AmountInUSD\"]=df[\"AmountInUSD\"].fillna(\"0\")\n",
    "df[\"StartupName\"]=df[\"StartupName\"].replace(\"Flipkart.com\",\"Flipkart\")\n",
    "df[\"StartupName\"]=df[\"StartupName\"].replace(\"Paytm Marketplace\",\"Paytm\")\n",
    "df[\"StartupName\"]=df[\"StartupName\"].replace(\"Olacabs\",\"Ola\")\n",
    "df[\"StartupName\"]=df[\"StartupName\"].replace(\"Ola Cabs\",\"Ola\")\n",
    "df[\"StartupName\"]=df[\"StartupName\"].replace(\"Oyo Rooms\",\"Oyo\")\n",
    "df[\"StartupName\"]=df[\"StartupName\"].replace(\"Oyorooms\",\"Oyo\")\n",
    "df[\"StartupName\"]=df[\"StartupName\"].replace(\"OyoRooms\",\"Oyo\")\n",
    "df[\"StartupName\"]=df[\"StartupName\"].replace(\"OYO Rooms\",\"Oyo\")\n",
    "count=df.groupby(\"StartupName\")[\"AmountInUSD\"].count().sort_values(ascending=False)[:5]\n",
    "name=count.index\n",
    "rounds=count.values\n",
    "for i in range(rounds.size):\n",
    "    print(name[i],rounds[i])"
   ]
  },
  {
   "cell_type": "code",
   "execution_count": null,
   "metadata": {},
   "outputs": [],
   "source": []
  }
 ],
 "metadata": {
  "kernelspec": {
   "display_name": "Python 3",
   "language": "python",
   "name": "python3"
  },
  "language_info": {
   "codemirror_mode": {
    "name": "ipython",
    "version": 3
   },
   "file_extension": ".py",
   "mimetype": "text/x-python",
   "name": "python",
   "nbconvert_exporter": "python",
   "pygments_lexer": "ipython3",
   "version": "3.8.3"
  }
 },
 "nbformat": 4,
 "nbformat_minor": 4
}
