{
 "cells": [
  {
   "cell_type": "markdown",
   "metadata": {},
   "source": [
    "Find value of killed column only where country == ‘United States’"
   ]
  },
  {
   "cell_type": "code",
   "execution_count": 47,
   "metadata": {},
   "outputs": [
    {
     "name": "stdout",
     "output_type": "stream",
     "text": [
      "3771\n"
     ]
    }
   ],
   "source": [
    "import numpy as np\n",
    "import csv\n",
    "with open(\"terrorismData.csv\", encoding='utf-8') as file_obj:\n",
    "    file_data=csv.DictReader(file_obj,skipinitialspace=True)\n",
    "    killed=[]\n",
    "    country=[]\n",
    "    for row in file_data:\n",
    "        country.append(row[\"Country\"])\n",
    "        killed.append(row[\"Killed\"])\n",
    "    country=np.array(country)\n",
    "    killed=np.array(killed)\n",
    "    killed[killed==\"\"]='0.0'\n",
    "    killed=np.array(killed,dtype=float)\n",
    "    killed=killed[np.where(country==\"United States\")]\n",
    "    print(int(killed.sum()))"
   ]
  },
  {
   "cell_type": "code",
   "execution_count": null,
   "metadata": {},
   "outputs": [],
   "source": []
  }
 ],
 "metadata": {
  "kernelspec": {
   "display_name": "Python 3",
   "language": "python",
   "name": "python3"
  },
  "language_info": {
   "codemirror_mode": {
    "name": "ipython",
    "version": 3
   },
   "file_extension": ".py",
   "mimetype": "text/x-python",
   "name": "python",
   "nbconvert_exporter": "python",
   "pygments_lexer": "ipython3",
   "version": "3.8.3"
  }
 },
 "nbformat": 4,
 "nbformat_minor": 4
}
