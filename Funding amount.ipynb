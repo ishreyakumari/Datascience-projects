{
 "cells": [
  {
   "cell_type": "markdown",
   "metadata": {},
   "source": [
    "Find top 10 Indian cities with most amount of fundings received. Find out percentage of funding each city has got (among top 10 Indian cities only)."
   ]
  },
  {
   "cell_type": "code",
   "execution_count": 47,
   "metadata": {},
   "outputs": [
    {
     "name": "stdout",
     "output_type": "stream",
     "text": [
      "Bangalore 49.71\n",
      "New Delhi 16.63\n",
      "Mumbai 13.9\n",
      "Gurgaon 12.21\n",
      "Chennai 2.43\n",
      "Pune 2.16\n",
      "Hyderabad 1.15\n",
      "Noida 1.01\n",
      "Ahmedabad 0.58\n",
      "Jaipur 0.21\n"
     ]
    }
   ],
   "source": [
    "import pandas as pd\n",
    "import numpy as np\n",
    "import matplotlib.pyplot as plt\n",
    "import numpy as np\n",
    "def function1(cost):\n",
    "    cost=cost.replace(\",\",\"\")\n",
    "    return int(cost)\n",
    "def function(city):\n",
    "    return (city.split(\"/\")[0]).strip()\n",
    "startup=pd.read_csv(\"startup_funding.csv\")\n",
    "df=startup.copy()\n",
    "df[\"CityLocation\"]=df[\"CityLocation\"].replace(\"Delhi\",\"New Delhi\")\n",
    "df[\"CityLocation\"]=df[\"CityLocation\"].replace(\"New New Delhi\",\"New Delhi\")\n",
    "df[\"CityLocation\"]=df[\"CityLocation\"].replace(\"bangalore\",\"Bangalore\")\n",
    "df[\"CityLocation\"]=df[\"CityLocation\"].fillna(\"\")\n",
    "df=df[df[\"CityLocation\"]!=\"\"]\n",
    "df[\"CityLocation\"]=df[\"CityLocation\"].apply(function)\n",
    "df[\"AmountInUSD\"]=df[\"AmountInUSD\"].fillna(\"0\")\n",
    "df[\"AmountInUSD\"]=df[\"AmountInUSD\"].apply(function1)\n",
    "df=df[df[\"AmountInUSD\"]!=0]\n",
    "invest_amount=df.groupby('CityLocation')['AmountInUSD'].sum().sort_values(ascending=False)[0:10]\n",
    "top_amt=invest_amount.values\n",
    "top_city=invest_amount.index\n",
    "per=np.true_divide(top_amt,top_amt.sum())*100\n",
    "for i in range(top_city.size):\n",
    "    print(top_city[i],round(per[i],2))"
   ]
  },
  {
   "cell_type": "code",
   "execution_count": null,
   "metadata": {},
   "outputs": [],
   "source": []
  }
 ],
 "metadata": {
  "kernelspec": {
   "display_name": "Python 3",
   "language": "python",
   "name": "python3"
  },
  "language_info": {
   "codemirror_mode": {
    "name": "ipython",
    "version": 3
   },
   "file_extension": ".py",
   "mimetype": "text/x-python",
   "name": "python",
   "nbconvert_exporter": "python",
   "pygments_lexer": "ipython3",
   "version": "3.8.3"
  }
 },
 "nbformat": 4,
 "nbformat_minor": 4
}
