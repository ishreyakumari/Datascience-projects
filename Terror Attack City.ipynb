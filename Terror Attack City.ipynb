{
 "cells": [
  {
   "cell_type": "markdown",
   "metadata": {},
   "source": [
    "The Most Dangerous city in Jammu and Kashmir and the terrorist group which is most active in that city?"
   ]
  },
  {
   "cell_type": "code",
   "execution_count": 6,
   "metadata": {},
   "outputs": [
    {
     "name": "stdout",
     "output_type": "stream",
     "text": [
      "Srinagar 657 Muslim Separatists\n"
     ]
    }
   ],
   "source": [
    "import pandas as pd\n",
    "import numpy as np\n",
    "terror=pd.read_csv(\"terrorismData.csv\")\n",
    "df=terror.copy()\n",
    "df=df[df[\"State\"]==\"Jammu and Kashmir\"]\n",
    "df1=df[\"City\"].value_counts()\n",
    "most_dangourous_city=df1.index[0]\n",
    "number_of_attacks=df1[0]\n",
    "df=df[df[\"City\"]==most_dangourous_city]\n",
    "df=df[df[\"Group\"]!=\"Unknown\"]\n",
    "df2=df[\"Group\"].value_counts()\n",
    "most_active_group=df2.index[0]\n",
    "print(most_dangourous_city,number_of_attacks,most_active_group)"
   ]
  },
  {
   "cell_type": "code",
   "execution_count": null,
   "metadata": {},
   "outputs": [],
   "source": []
  }
 ],
 "metadata": {
  "kernelspec": {
   "display_name": "Python 3",
   "language": "python",
   "name": "python3"
  },
  "language_info": {
   "codemirror_mode": {
    "name": "ipython",
    "version": 3
   },
   "file_extension": ".py",
   "mimetype": "text/x-python",
   "name": "python",
   "nbconvert_exporter": "python",
   "pygments_lexer": "ipython3",
   "version": "3.8.3"
  }
 },
 "nbformat": 4,
 "nbformat_minor": 4
}
