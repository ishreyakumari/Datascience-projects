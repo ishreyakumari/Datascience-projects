{
 "cells": [
  {
   "cell_type": "markdown",
   "metadata": {},
   "source": [
    "Find the movie which has maximum net profit in IMDB Movie Database.\n",
    "Print the movie name.\n",
    "Note: Net Profit= Total Earning(Domestic+WorldWide earning) - budget"
   ]
  },
  {
   "cell_type": "code",
   "execution_count": 24,
   "metadata": {},
   "outputs": [
    {
     "data": {
      "text/plain": [
       "'Star Wars: The Force Awakens (2015)'"
      ]
     },
     "execution_count": 24,
     "metadata": {},
     "output_type": "execute_result"
    }
   ],
   "source": [
    "import dtale\n",
    "import pandas as pd\n",
    "import sqlite3 as sql\n",
    "def function(data):\n",
    "    if data==\"\":\n",
    "        return 0\n",
    "    return int(data)\n",
    "db=sql.connect(\"IMDB.sqlite\")\n",
    "df=pd.read_sql_query(\"select title,budget,domestic,worldwide from earning e join imdb i on i.movie_id = e.movie_id\",db)\n",
    "dtale.show(df)\n",
    "df[\"Domestic\"]=df[\"Domestic\"].apply(function)\n",
    "df[\"Worldwide\"]=df[\"Worldwide\"].apply(function)\n",
    "df[\"Budget\"]=df[\"Budget\"].apply(function)\n",
    "df[\"Earning\"]=(df[\"Domestic\"]+df[\"Worldwide\"])-df[\"Budget\"]\n",
    "earning=df[\"Earning\"].argmax()\n",
    "df[\"Title\"][earning]"
   ]
  },
  {
   "cell_type": "code",
   "execution_count": null,
   "metadata": {},
   "outputs": [],
   "source": []
  },
  {
   "cell_type": "code",
   "execution_count": null,
   "metadata": {},
   "outputs": [],
   "source": []
  }
 ],
 "metadata": {
  "kernelspec": {
   "display_name": "Python 3",
   "language": "python",
   "name": "python3"
  },
  "language_info": {
   "codemirror_mode": {
    "name": "ipython",
    "version": 3
   },
   "file_extension": ".py",
   "mimetype": "text/x-python",
   "name": "python",
   "nbconvert_exporter": "python",
   "pygments_lexer": "ipython3",
   "version": "3.8.3"
  }
 },
 "nbformat": 4,
 "nbformat_minor": 4
}
