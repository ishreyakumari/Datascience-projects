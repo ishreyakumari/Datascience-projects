{
 "cells": [
  {
   "cell_type": "markdown",
   "metadata": {},
   "source": [
    "Find the highest-grossing movie (i.e domestic earning + worldwide earning) in IMDB database year wise.\n",
    "Print the Year and name of the movie which was the highest grosser in that year."
   ]
  },
  {
   "cell_type": "code",
   "execution_count": 56,
   "metadata": {},
   "outputs": [
    {
     "name": "stdout",
     "output_type": "stream",
     "text": [
      "2010 Toy Story 3\n",
      "2011 Rise of the Planet of the Apes\n",
      "2012 The Avengers\n",
      "2013 The Hunger Games: Catching Fire\n",
      "2014 Guardians of the Galaxy\n",
      "2015 Star Wars: The Force Awakens\n",
      "2016 Rogue One\n"
     ]
    }
   ],
   "source": [
    "import pandas as pd\n",
    "import numpy as np\n",
    "import sqlite3 as sql\n",
    "def function1(data):\n",
    "    return int(data)\n",
    "\n",
    "def function(data):\n",
    "    s=data.split(\"(\")[-1].strip(\")\")\n",
    "    t=data.split(\"(\")[0].strip()    \n",
    "    return pd.Series([int(s),t],index=[\"Year\",\"Name\"])\n",
    "db=sql.connect(\"IMDB.sqlite\")\n",
    "df=pd.read_sql_query(\"select title,domestic,worldwide from imdb i join earning e on e.movie_id=i.movie_id\",db)\n",
    "details=df[\"Title\"].apply(function)\n",
    "df[\"Year\"]=details[\"Year\"]\n",
    "df[\"Name\"]=details[\"Name\"]\n",
    "df[\"Domestic\"]=df[\"Domestic\"].apply(function1)\n",
    "df[\"Worldwide\"]=df[\"Worldwide\"].apply(function1)\n",
    "df[\"Earning\"]=df[\"Domestic\"]+df[\"Worldwide\"]\n",
    "data=df.groupby(\"Year\")[\"Earning\"].max()\n",
    "year=data.index\n",
    "earning=data.values\n",
    "for i in range(year.size):\n",
    "    indi=np.where(df[\"Earning\"]==earning[i])[0][0]\n",
    "    print(year[i],df[\"Name\"][indi])"
   ]
  },
  {
   "cell_type": "code",
   "execution_count": null,
   "metadata": {},
   "outputs": [],
   "source": []
  },
  {
   "cell_type": "code",
   "execution_count": null,
   "metadata": {},
   "outputs": [],
   "source": []
  }
 ],
 "metadata": {
  "kernelspec": {
   "display_name": "Python 3",
   "language": "python",
   "name": "python3"
  },
  "language_info": {
   "codemirror_mode": {
    "name": "ipython",
    "version": 3
   },
   "file_extension": ".py",
   "mimetype": "text/x-python",
   "name": "python",
   "nbconvert_exporter": "python",
   "pygments_lexer": "ipython3",
   "version": "3.8.3"
  }
 },
 "nbformat": 4,
 "nbformat_minor": 4
}
