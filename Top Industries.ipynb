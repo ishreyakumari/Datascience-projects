{
 "cells": [
  {
   "cell_type": "markdown",
   "metadata": {},
   "source": [
    "Which type of companies got more easily funding. To answer this question, find -\n",
    "Top 5 industries and percentage of the total amount funded to that industry. (among top 5 only)\n",
    "Print the industry name and percentage of the amount funded with 2 decimal place after rounding off."
   ]
  },
  {
   "cell_type": "code",
   "execution_count": 15,
   "metadata": {},
   "outputs": [
    {
     "name": "stdout",
     "output_type": "stream",
     "text": [
      "ECommerce 40.53\n",
      "Consumer Internet 35.95\n",
      "Technology 10.45\n",
      "Online Marketplace 6.63\n",
      "E-Commerce & M-Commerce platform 6.44\n"
     ]
    }
   ],
   "source": [
    "import pandas as pd\n",
    "import numpy as np\n",
    "def function(amount):\n",
    "    amount=amount.replace(\",\",\"\")\n",
    "    return int(amount)\n",
    "startup=pd.read_csv(\"startup_funding.csv\")\n",
    "df=startup.copy()\n",
    "df[\"IndustryVertical\"]=df[\"IndustryVertical\"].replace(\"eCommerce\",\"ECommerce\")\n",
    "df[\"IndustryVertical\"]=df[\"IndustryVertical\"].replace(\"ecommerce\",\"ECommerce\")\n",
    "df[\"IndustryVertical\"]=df[\"IndustryVertical\"].replace(\"Ecommerce\",\"ECommerce\")\n",
    "df[\"AmountInUSD\"]=df[\"AmountInUSD\"].fillna(\"0\")\n",
    "df[\"AmountInUSD\"]=df[\"AmountInUSD\"].apply(function)\n",
    "company=df.groupby(\"IndustryVertical\")[\"AmountInUSD\"].sum().sort_values(ascending=False)[:5]\n",
    "industry=company.index\n",
    "cost=company.values\n",
    "per=np.true_divide(cost,cost.sum())*100\n",
    "for i in range(company.size):\n",
    "    print(industry[i],round(per[i],2))"
   ]
  },
  {
   "cell_type": "code",
   "execution_count": null,
   "metadata": {},
   "outputs": [],
   "source": []
  }
 ],
 "metadata": {
  "kernelspec": {
   "display_name": "Python 3",
   "language": "python",
   "name": "python3"
  },
  "language_info": {
   "codemirror_mode": {
    "name": "ipython",
    "version": 3
   },
   "file_extension": ".py",
   "mimetype": "text/x-python",
   "name": "python",
   "nbconvert_exporter": "python",
   "pygments_lexer": "ipython3",
   "version": "3.8.3"
  }
 },
 "nbformat": 4,
 "nbformat_minor": 4
}
