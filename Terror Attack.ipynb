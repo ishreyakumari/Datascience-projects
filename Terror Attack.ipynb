{
 "cells": [
  {
   "cell_type": "markdown",
   "metadata": {},
   "source": [
    "Find out the Country with Highest Number of Terror Attack and in which year the most number of terrorist attack happened in that country ?"
   ]
  },
  {
   "cell_type": "code",
   "execution_count": 16,
   "metadata": {},
   "outputs": [
    {
     "name": "stdout",
     "output_type": "stream",
     "text": [
      "Iraq 24636 2014\n"
     ]
    }
   ],
   "source": [
    "import pandas as pd\n",
    "terror=pd.read_csv(\"terrorismData.csv\")\n",
    "df=terror.copy()\n",
    "maxAttacked_country= df[\"Country\"].value_counts().index[0]\n",
    "number_of_attacks=df[\"Country\"].value_counts().values[0]\n",
    "df=df[df[\"Country\"]==maxAttacked_country]\n",
    "maxAttacked_year=df[\"Year\"].value_counts().index[0]\n",
    "print(maxAttacked_country,number_of_attacks,maxAttacked_year)"
   ]
  },
  {
   "cell_type": "code",
   "execution_count": null,
   "metadata": {},
   "outputs": [],
   "source": []
  }
 ],
 "metadata": {
  "kernelspec": {
   "display_name": "Python 3",
   "language": "python",
   "name": "python3"
  },
  "language_info": {
   "codemirror_mode": {
    "name": "ipython",
    "version": 3
   },
   "file_extension": ".py",
   "mimetype": "text/x-python",
   "name": "python",
   "nbconvert_exporter": "python",
   "pygments_lexer": "ipython3",
   "version": "3.8.3"
  }
 },
 "nbformat": 4,
 "nbformat_minor": 4
}
