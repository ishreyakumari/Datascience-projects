{
 "cells": [
  {
   "cell_type": "markdown",
   "metadata": {},
   "source": [
    "Find the casualty in the Red Corridor States ? Mainly Red corridor states include Jharkhand, Odisha, Andhra Pradesh, and Chhattisgarh."
   ]
  },
  {
   "cell_type": "code",
   "execution_count": 11,
   "metadata": {},
   "outputs": [
    {
     "name": "stdout",
     "output_type": "stream",
     "text": [
      "3406\n"
     ]
    }
   ],
   "source": [
    "import csv\n",
    "import numpy as np\n",
    "with open('terrorismData.csv',encoding='utf-8') as file_obj:\n",
    "    file_data= csv.DictReader(file_obj,skipinitialspace=True)\n",
    "    states=[]\n",
    "    killed=[]\n",
    "    wounded=[]\n",
    "    for i in file_data:\n",
    "        states.append(i[\"State\"])\n",
    "        killed.append(i[\"Killed\"])\n",
    "        wounded.append(i[\"Wounded\"])\n",
    "    killed=np.array(killed)\n",
    "    killed[killed=='']='0.0'\n",
    "    killed=np.array(killed,dtype=float)\n",
    "    killed=np.array(killed,dtype=int)\n",
    "    wounded=np.array(wounded)\n",
    "    wounded[wounded=='']='0.0'\n",
    "    wounded=np.array(wounded,dtype=float)\n",
    "    wounded=np.array(wounded,dtype=int)\n",
    "    states=np.array(states)\n",
    "    states=states[(states==\"Jharkhand\")|(states==\"Odisha\")|(states==\"Andhra Pradesh\")|(states==\"Chhattisgarh\")]\n",
    "    killed=killed[np.where(states)]    \n",
    "    wounded=wounded[np.where(states)]\n",
    "    casualties=killed+wounded\n",
    "    print(casualties.sum())"
   ]
  },
  {
   "cell_type": "code",
   "execution_count": null,
   "metadata": {},
   "outputs": [],
   "source": []
  }
 ],
 "metadata": {
  "kernelspec": {
   "display_name": "Python 3",
   "language": "python",
   "name": "python3"
  },
  "language_info": {
   "codemirror_mode": {
    "name": "ipython",
    "version": 3
   },
   "file_extension": ".py",
   "mimetype": "text/x-python",
   "name": "python",
   "nbconvert_exporter": "python",
   "pygments_lexer": "ipython3",
   "version": "3.8.3"
  }
 },
 "nbformat": 4,
 "nbformat_minor": 4
}
