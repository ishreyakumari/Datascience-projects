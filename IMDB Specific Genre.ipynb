{
 "cells": [
  {
   "cell_type": "markdown",
   "metadata": {},
   "source": [
    "Find the movie which has genre of 'Sci-Fi' and 'Mystery' and movie rating is greater or equal to 8 from IMDB Movie Database.\n",
    "Print the movie name."
   ]
  },
  {
   "cell_type": "code",
   "execution_count": 1,
   "metadata": {},
   "outputs": [
    {
     "name": "stdout",
     "output_type": "stream",
     "text": [
      "Arrival (2016)\n"
     ]
    }
   ],
   "source": [
    "import pandas as pd\n",
    "import matplotlib.pyplot as plt\n",
    "import numpy as np\n",
    "import sqlite3 as sql\n",
    "db=sql.connect(\"imdb.sqlite\")\n",
    "imdb=pd.read_sql_query(\"select title,genre,rating from imdb i join genre g on i.movie_id=g.movie_id\",db)\n",
    "df=imdb.copy()\n",
    "df=df[((df[\"genre\"]==\"Sci-Fi\") | (df[\"genre\"]==\"Mystery\")) & (df[\"Rating\"]>=8)]\n",
    "movie=df.groupby(\"Title\")[\"genre\"].count()\n",
    "name=movie.index\n",
    "genre=movie.values\n",
    "for i in range(name.size):\n",
    "    if genre[i]==2:\n",
    "        df=df[df[\"Title\"]==name[i]]\n",
    "        if ((\"Mystery\" in df[\"genre\"].values) and (\"Sci-Fi\" in df[\"genre\"].values)):\n",
    "            print(df[\"Title\"].values[0])\n",
    "            break\n",
    "db.close()"
   ]
  },
  {
   "cell_type": "code",
   "execution_count": null,
   "metadata": {},
   "outputs": [],
   "source": []
  }
 ],
 "metadata": {
  "kernelspec": {
   "display_name": "Python 3",
   "language": "python",
   "name": "python3"
  },
  "language_info": {
   "codemirror_mode": {
    "name": "ipython",
    "version": 3
   },
   "file_extension": ".py",
   "mimetype": "text/x-python",
   "name": "python",
   "nbconvert_exporter": "python",
   "pygments_lexer": "ipython3",
   "version": "3.8.3"
  }
 },
 "nbformat": 4,
 "nbformat_minor": 4
}
