{
 "cells": [
  {
   "cell_type": "markdown",
   "metadata": {},
   "source": [
    "Find out the attack in period(May 1999 and July 1999) in which maximum casualties happened.\n",
    "Print the count of casualties (as integer), city in which that attack happened and name of attack group."
   ]
  },
  {
   "cell_type": "code",
   "execution_count": 16,
   "metadata": {},
   "outputs": [
    {
     "name": "stdout",
     "output_type": "stream",
     "text": [
      "count of casualities- 100\n",
      "city having maximum casualities- Boulder\n",
      "group which has done maxium casualities- Student Radicals\n"
     ]
    }
   ],
   "source": [
    "import csv\n",
    "import numpy as np\n",
    "with open('terrorismData.csv',encoding='utf-8') as file_obj:\n",
    "    file_data= csv.DictReader(file_obj,skipinitialspace=True)\n",
    "    killed=[]\n",
    "    wounded=[]\n",
    "    month=[]\n",
    "    year=[]\n",
    "    city=[]\n",
    "    group=[]\n",
    "    for i in file_data:\n",
    "        killed.append(i[\"Killed\"])\n",
    "        wounded.append(i[\"Wounded\"])\n",
    "        month.append(i[\"Month\"])\n",
    "        year.append(i[\"Year\"])\n",
    "        city.append(i[\"City\"])\n",
    "        group.append(i[\"Group\"])\n",
    "    killed=np.array(killed)\n",
    "    killed[killed==\"\"]='0.0'\n",
    "    killed=np.array(killed,dtype=float)\n",
    "    killed=np.array(killed,dtype=int)\n",
    "    wounded=np.array(wounded)    \n",
    "    wounded[wounded==\"\"]='0.0'\n",
    "    wounded=np.array(wounded,dtype=float)\n",
    "    wounded=np.array(wounded,dtype=int)\n",
    "    month=np.array(month,dtype=int)\n",
    "    year=np.array(year,dtype=int)\n",
    "    city=np.array(city)\n",
    "    group=np.array(group)\n",
    "    killed=killed[(year==1999)&(month>=5)&(month<=7)]\n",
    "    wounded=wounded[killed]\n",
    "    casualities=killed+wounded\n",
    "    city=city[killed]\n",
    "    group=group[killed]\n",
    "    print(\"count of casualities-\",casualities.max())\n",
    "    print(\"city having maximum casualities-\",city[casualities.argmax()])\n",
    "    print(\"group which has done maxium casualities-\",group[casualities.argmax()])"
   ]
  },
  {
   "cell_type": "code",
   "execution_count": null,
   "metadata": {},
   "outputs": [],
   "source": []
  }
 ],
 "metadata": {
  "kernelspec": {
   "display_name": "Python 3",
   "language": "python",
   "name": "python3"
  },
  "language_info": {
   "codemirror_mode": {
    "name": "ipython",
    "version": 3
   },
   "file_extension": ".py",
   "mimetype": "text/x-python",
   "name": "python",
   "nbconvert_exporter": "python",
   "pygments_lexer": "ipython3",
   "version": "3.8.3"
  }
 },
 "nbformat": 4,
 "nbformat_minor": 4
}
