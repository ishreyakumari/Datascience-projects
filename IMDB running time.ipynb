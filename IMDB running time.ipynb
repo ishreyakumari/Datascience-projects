{
 "cells": [
  {
   "cell_type": "markdown",
   "metadata": {},
   "source": [
    "Find the Movie with Longest-Running Time from IMDB Movie database.\n",
    "Print the name of movie and running time as integer value."
   ]
  },
  {
   "cell_type": "code",
   "execution_count": 16,
   "metadata": {},
   "outputs": [
    {
     "name": "stdout",
     "output_type": "stream",
     "text": [
      "The Wolf of Wall Street (2013) 180\n"
     ]
    }
   ],
   "source": [
    "import dtale\n",
    "import sqlite3 as sql\n",
    "import pandas as pd\n",
    "def function(time):\n",
    "    if time==\"\":\n",
    "        return 0\n",
    "    return int(time.split(\" \")[0].strip())\n",
    "db=sql.connect(\"IMDB.sqlite\")\n",
    "df=pd.read_sql_query(\"select * from imdb\",db)\n",
    "df[\"Time\"]=df[\"Runtime\"].apply(function)\n",
    "time=df[\"Time\"].argmax()\n",
    "print(df[\"Title\"][time],df[\"Time\"][time])"
   ]
  },
  {
   "cell_type": "code",
   "execution_count": null,
   "metadata": {},
   "outputs": [],
   "source": []
  }
 ],
 "metadata": {
  "kernelspec": {
   "display_name": "Python 3",
   "language": "python",
   "name": "python3"
  },
  "language_info": {
   "codemirror_mode": {
    "name": "ipython",
    "version": 3
   },
   "file_extension": ".py",
   "mimetype": "text/x-python",
   "name": "python",
   "nbconvert_exporter": "python",
   "pygments_lexer": "ipython3",
   "version": "3.8.3"
  }
 },
 "nbformat": 4,
 "nbformat_minor": 4
}
