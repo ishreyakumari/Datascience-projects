{
 "cells": [
  {
   "cell_type": "markdown",
   "metadata": {},
   "source": [
    "Find the Investors who have invested maximum number of times.\n",
    "Print the investor name and number of times invested as integer value."
   ]
  },
  {
   "cell_type": "code",
   "execution_count": 23,
   "metadata": {},
   "outputs": [
    {
     "name": "stdout",
     "output_type": "stream",
     "text": [
      "Sequoia Capital 64\n"
     ]
    }
   ],
   "source": [
    "import pandas as pd\n",
    "import numpy as np\n",
    "def function(name):\n",
    "    s=name.split(\",\")\n",
    "    return s\n",
    "startup=pd.read_csv(\"startup_funding.csv\")\n",
    "df=startup.copy()\n",
    "df.head()\n",
    "df[\"InvestorsName\"]=df[\"InvestorsName\"].fillna(\"\")\n",
    "investor_list=df[\"InvestorsName\"].apply(function)\n",
    "list_invest=[]\n",
    "for i in investor_list:\n",
    "    for j in i:\n",
    "        list_invest.append(j.strip())\n",
    "investor_list=pd.DataFrame({\"investor\":list_invest})\n",
    "top_investor=investor_list[\"investor\"].value_counts()\n",
    "print(top_investor.index[0],top_investor.values[0])"
   ]
  },
  {
   "cell_type": "code",
   "execution_count": null,
   "metadata": {},
   "outputs": [],
   "source": []
  }
 ],
 "metadata": {
  "kernelspec": {
   "display_name": "Python 3",
   "language": "python",
   "name": "python3"
  },
  "language_info": {
   "codemirror_mode": {
    "name": "ipython",
    "version": 3
   },
   "file_extension": ".py",
   "mimetype": "text/x-python",
   "name": "python",
   "nbconvert_exporter": "python",
   "pygments_lexer": "ipython3",
   "version": "3.8.3"
  }
 },
 "nbformat": 4,
 "nbformat_minor": 4
}
