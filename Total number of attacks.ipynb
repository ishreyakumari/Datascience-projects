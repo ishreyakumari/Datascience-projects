{
 "cells": [
  {
   "cell_type": "markdown",
   "metadata": {},
   "source": [
    "There was formation of new government in India on 26 May 2014. So current government's span is from 26th May 2014 to current. Find out two things from this period-\n",
    "1. Total number of attacks done in this period in India. Find this count as integer.\n",
    "2. Which Terrorist group was most active in this period in India. Most active means, group which has done maximum number of attacks.\n",
    "3. Ignore the Unknown group. "
   ]
  },
  {
   "cell_type": "code",
   "execution_count": 12,
   "metadata": {},
   "outputs": [
    {
     "name": "stdout",
     "output_type": "stream",
     "text": [
      "3336 Maoists\n"
     ]
    }
   ],
   "source": [
    "import pandas as pd\n",
    "terror=pd.read_csv(\"terrorismData.csv\")\n",
    "df=terror.copy()\n",
    "#For all days from 2015\n",
    "df1=(df[\"Country\"]==\"India\")&(df[\"Year\"]>2014)\n",
    "#for year 2014\n",
    "df2=(df[\"Country\"]==\"India\")&(df[\"Year\"]==2014)&(df[\"Month\"]>5)\n",
    "df3=(df[\"Country\"]==\"India\")&(df[\"Month\"]==5)&(df[\"Year\"]==2014)&(df[\"Day\"]>25)\n",
    "df=df[df1|df2|df3]\n",
    "number_of_attacks=df.count()[0]\n",
    "df=df[df[\"Group\"]!=\"Unknown\"]\n",
    "df3=df[\"Group\"].value_counts()\n",
    "most_active_group=df3.index[0]\n",
    "print(number_of_attacks,most_active_group)"
   ]
  },
  {
   "cell_type": "code",
   "execution_count": null,
   "metadata": {},
   "outputs": [],
   "source": []
  }
 ],
 "metadata": {
  "kernelspec": {
   "display_name": "Python 3",
   "language": "python",
   "name": "python3"
  },
  "language_info": {
   "codemirror_mode": {
    "name": "ipython",
    "version": 3
   },
   "file_extension": ".py",
   "mimetype": "text/x-python",
   "name": "python",
   "nbconvert_exporter": "python",
   "pygments_lexer": "ipython3",
   "version": "3.8.3"
  }
 },
 "nbformat": 4,
 "nbformat_minor": 4
}
