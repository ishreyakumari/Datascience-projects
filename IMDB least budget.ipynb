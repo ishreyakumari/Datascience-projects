{
 "cells": [
  {
   "cell_type": "markdown",
   "metadata": {},
   "source": [
    "Find the least budgeted movie in IMDB Movie Database.\n",
    "If there is more than one least budgeted movies then print the movie which has maximum net profit.\n",
    "Note: Net Profit= Total Earning(Domestic+WorldWide earning) - budget"
   ]
  },
  {
   "cell_type": "code",
   "execution_count": 60,
   "metadata": {},
   "outputs": [
    {
     "name": "stdout",
     "output_type": "stream",
     "text": [
      "Short Term 12 (2013)\n"
     ]
    }
   ],
   "source": [
    "import pandas as pd\n",
    "import sqlite3 as sql\n",
    "import numpy as np\n",
    "def function(data):    \n",
    "    return int(data)\n",
    "\n",
    "db=sql.connect(\"IMDB.sqlite\")\n",
    "df=pd.read_sql_query(\"select title,budget,domestic,worldwide from imdb i join earning e on i.movie_id=e.movie_id\",db)\n",
    "df=df[df[\"Budget\"]!=\"\"]\n",
    "df[\"Budget\"]=df[\"Budget\"].apply(function)\n",
    "df[\"Domestic\"]=df[\"Domestic\"].apply(function)\n",
    "df[\"Worldwide\"]=df[\"Worldwide\"].apply(function)\n",
    "min_budget=df[\"Budget\"].min()\n",
    "df=df[(df[\"Budget\"]==min_budget)]\n",
    "df[\"Earning\"]=(df[\"Domestic\"]+df[\"Worldwide\"])-df[\"Budget\"]\n",
    "max_earn=df[\"Earning\"].max()\n",
    "df=df[df[\"Earning\"]==max_earn]\n",
    "print(df[\"Title\"].values[0])"
   ]
  },
  {
   "cell_type": "code",
   "execution_count": null,
   "metadata": {},
   "outputs": [],
   "source": []
  }
 ],
 "metadata": {
  "kernelspec": {
   "display_name": "Python 3",
   "language": "python",
   "name": "python3"
  },
  "language_info": {
   "codemirror_mode": {
    "name": "ipython",
    "version": 3
   },
   "file_extension": ".py",
   "mimetype": "text/x-python",
   "name": "python",
   "nbconvert_exporter": "python",
   "pygments_lexer": "ipython3",
   "version": "3.8.3"
  }
 },
 "nbformat": 4,
 "nbformat_minor": 4
}
