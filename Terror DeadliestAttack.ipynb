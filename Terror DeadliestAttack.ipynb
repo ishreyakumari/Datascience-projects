{
 "cells": [
  {
   "cell_type": "markdown",
   "metadata": {},
   "source": [
    "Most Deadliest attack in a history of HumanKind? Here Deadliest attack means, in which the most number of people killed."
   ]
  },
  {
   "cell_type": "code",
   "execution_count": 5,
   "metadata": {},
   "outputs": [
    {
     "name": "stdout",
     "output_type": "stream",
     "text": [
      "Killed 1570 Country Iraq Group Islamic State of Iraq and the Levant (ISIL)\n"
     ]
    }
   ],
   "source": [
    "import pandas as pd\n",
    "terror=pd.read_csv(\"terrorismData.csv\")\n",
    "df=terror.copy()\n",
    "indi=df[\"Killed\"].argmax()\n",
    "print(\"Killed\",int(df[\"Killed\"][indi]),\"Country\",df[\"Country\"][indi],\"Group\",df[\"Group\"][indi])"
   ]
  },
  {
   "cell_type": "code",
   "execution_count": null,
   "metadata": {},
   "outputs": [],
   "source": []
  }
 ],
 "metadata": {
  "kernelspec": {
   "display_name": "Python 3",
   "language": "python",
   "name": "python3"
  },
  "language_info": {
   "codemirror_mode": {
    "name": "ipython",
    "version": 3
   },
   "file_extension": ".py",
   "mimetype": "text/x-python",
   "name": "python",
   "nbconvert_exporter": "python",
   "pygments_lexer": "ipython3",
   "version": "3.8.3"
  }
 },
 "nbformat": 4,
 "nbformat_minor": 4
}
