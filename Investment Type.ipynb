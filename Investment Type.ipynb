{
 "cells": [
  {
   "cell_type": "markdown",
   "metadata": {},
   "source": [
    "There are 4 different type of investments. Find out percentage of amount funded for each investment type.\n",
    "Plot a pie chart to visualise.\n",
    "Print the investment type and percentage of amount funded with 2 decimal places after rounding off."
   ]
  },
  {
   "cell_type": "code",
   "execution_count": 14,
   "metadata": {},
   "outputs": [
    {
     "name": "stdout",
     "output_type": "stream",
     "text": [
      "Crowd Funding 0.0\n",
      "Debt Funding 0.04\n",
      "Private Equity 98.15\n",
      "Seed Funding 1.81\n"
     ]
    },
    {
     "data": {
      "image/png": "[encoded data removed]",
      "text/plain": [
       "<Figure size 432x288 with 1 Axes>"
      ]
     },
     "metadata": {},
     "output_type": "display_data"
    }
   ],
   "source": [
    "import pandas as pd\n",
    "import matplotlib.pyplot as plt\n",
    "import numpy as np\n",
    "def function(amount):\n",
    "    amount=amount.replace(\",\",\"\")\n",
    "    return int(amount)\n",
    "startup=pd.read_csv(\"startup_funding.csv\")\n",
    "df=startup.copy()\n",
    "df[\"InvestmentType\"]=df[\"InvestmentType\"].replace(\"SeedFunding\",\"Seed Funding\")\n",
    "df[\"InvestmentType\"]=df[\"InvestmentType\"].replace(\"PrivateEquity\",\"Private Equity\")\n",
    "df[\"InvestmentType\"]=df[\"InvestmentType\"].replace(\"Crowd funding\",\"Crowd Funding\")\n",
    "df[\"AmountInUSD\"]=df[\"AmountInUSD\"].fillna(\"0\")\n",
    "df[\"AmountInUSD\"]=df[\"AmountInUSD\"].apply(function)\n",
    "investment=df.groupby(\"InvestmentType\")[\"AmountInUSD\"].sum()\n",
    "invest_type=investment.index\n",
    "invest_amount=investment.values\n",
    "per=np.true_divide(invest_amount,invest_amount.sum())*100\n",
    "for i in range(invest_type.size):\n",
    "    print(invest_type[i],round(per[i],2))\n",
    "plt.pie(invest_amount,labels=invest_type,autopct=\"%.2f\")\n",
    "plt.show()"
   ]
  },
  {
   "cell_type": "code",
   "execution_count": null,
   "metadata": {},
   "outputs": [],
   "source": []
  }
 ],
 "metadata": {
  "kernelspec": {
   "display_name": "Python 3",
   "language": "python",
   "name": "python3"
  },
  "language_info": {
   "codemirror_mode": {
    "name": "ipython",
    "version": 3
   },
   "file_extension": ".py",
   "mimetype": "text/x-python",
   "name": "python",
   "nbconvert_exporter": "python",
   "pygments_lexer": "ipython3",
   "version": "3.8.3"
  }
 },
 "nbformat": 4,
 "nbformat_minor": 4
}
