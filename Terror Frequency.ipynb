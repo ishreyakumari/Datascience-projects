{
 "cells": [
  {
   "cell_type": "markdown",
   "metadata": {},
   "source": [
    "Find the frequency of the Casualty in Red Corridor states and in Jammu and Kashmir ?Here Frequency is (Total Casualty/Total Number of a year). Red Corridor state includes Jharkhand, Odisha, Andhra Pradesh, and Chhattisgarh. Here Casualty=Killed +Wounded."
   ]
  },
  {
   "cell_type": "code",
   "execution_count": 41,
   "metadata": {},
   "outputs": [
    {
     "name": "stdout",
     "output_type": "stream",
     "text": [
      "115 261\n"
     ]
    }
   ],
   "source": [
    "import pandas as pd\n",
    "terror=pd.read_csv(\"terrorismData.csv\")\n",
    "df=terror.copy()\n",
    "number_of_years=(df[\"Year\"].value_counts()).count()\n",
    "df_red_corridor=df[(df[\"State\"]==\"Jharkhand\")|(df[\"State\"]==\"Odisha\")|(df[\"State\"]==\"Andhra Pradesh\")|(df[\"State\"]==\"Chhattisgarh\")]\n",
    "casualty_red_corridor=(df_red_corridor[\"Wounded\"]+df_red_corridor[\"Killed\"]).sum()\n",
    "df_jammu=df[df[\"State\"]==\"Jammu and Kashmir\"]\n",
    "casualty_jammu=(df_jammu[\"Wounded\"]+df_jammu[\"Killed\"]).sum()\n",
    "frequency_redCorridor=(casualty_red_corridor/number_of_years)\n",
    "frequency_jammu=(casualty_jammu/number_of_years)\n",
    "print(int(frequency_redCorridor),int(frequency_jammu))"
   ]
  },
  {
   "cell_type": "code",
   "execution_count": 45,
   "metadata": {},
   "outputs": [
    {
     "name": "stdout",
     "output_type": "stream",
     "text": [
      "     0\n",
      "0  3.0\n",
      "1  NaN\n",
      "2  NaN\n"
     ]
    }
   ],
   "source": []
  },
  {
   "cell_type": "code",
   "execution_count": null,
   "metadata": {},
   "outputs": [],
   "source": [
    "\n"
   ]
  }
 ],
 "metadata": {
  "kernelspec": {
   "display_name": "Python 3",
   "language": "python",
   "name": "python3"
  },
  "language_info": {
   "codemirror_mode": {
    "name": "ipython",
    "version": 3
   },
   "file_extension": ".py",
   "mimetype": "text/x-python",
   "name": "python",
   "nbconvert_exporter": "python",
   "pygments_lexer": "ipython3",
   "version": "3.8.3"
  }
 },
 "nbformat": 4,
 "nbformat_minor": 4
}
