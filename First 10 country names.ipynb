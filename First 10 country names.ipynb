{
 "cells": [
  {
   "cell_type": "markdown",
   "metadata": {},
   "source": [
    "Open and read the file.\n",
    "Print the country names from first 10 rows (in different lines)."
   ]
  },
  {
   "cell_type": "code",
   "execution_count": 5,
   "metadata": {},
   "outputs": [
    {
     "name": "stdout",
     "output_type": "stream",
     "text": [
      "Afghanistan\n",
      "Sudan\n",
      "Democratic Republic of the Congo\n",
      "Democratic Republic of the Congo\n",
      "Turkey\n",
      "Syria\n",
      "Pakistan\n",
      "Italy\n",
      "Turkey\n",
      "Turkey\n"
     ]
    }
   ],
   "source": [
    "import csv\n",
    "with open(\"year2017.csv\") as file_obj:\n",
    "    file_data=csv.DictReader(file_obj,skipinitialspace=True)\n",
    "    count=0\n",
    "    for row in file_data:\n",
    "        print(row['Country'])\n",
    "        count+=1\n",
    "        if count==10:\n",
    "            break"
   ]
  },
  {
   "cell_type": "code",
   "execution_count": null,
   "metadata": {},
   "outputs": [],
   "source": []
  }
 ],
 "metadata": {
  "kernelspec": {
   "display_name": "Python 3",
   "language": "python",
   "name": "python3"
  },
  "language_info": {
   "codemirror_mode": {
    "name": "ipython",
    "version": 3
   },
   "file_extension": ".py",
   "mimetype": "text/x-python",
   "name": "python",
   "nbconvert_exporter": "python",
   "pygments_lexer": "ipython3",
   "version": "3.8.3"
  }
 },
 "nbformat": 4,
 "nbformat_minor": 4
}
