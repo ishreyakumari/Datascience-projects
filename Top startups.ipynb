{
 "cells": [
  {
   "cell_type": "markdown",
   "metadata": {},
   "source": [
    "Find top 5 startups with most amount of total funding.\n",
    "Print the startup name in descending order with respect to amount of funding."
   ]
  },
  {
   "cell_type": "code",
   "execution_count": 19,
   "metadata": {},
   "outputs": [
    {
     "name": "stdout",
     "output_type": "stream",
     "text": [
      "Paytm\n",
      "Flipkart\n",
      "Ola\n",
      "Snapdeal\n",
      "Oyo\n"
     ]
    }
   ],
   "source": [
    "import pandas as pd\n",
    "import numpy as np\n",
    "def function(cost):\n",
    "    cost=cost.replace(\",\",\"\")\n",
    "    return int(cost)\n",
    "startup=pd.read_csv(\"startup_funding.csv\")\n",
    "df=startup.copy()\n",
    "df[\"AmountInUSD\"]=df[\"AmountInUSD\"].fillna(\"0\")\n",
    "df[\"AmountInUSD\"]=df[\"AmountInUSD\"].apply(function)\n",
    "df[\"StartupName\"]=df[\"StartupName\"].replace(\"Flipkart.com\",\"Flipkart\")\n",
    "df[\"StartupName\"]=df[\"StartupName\"].replace(\"Paytm Marketplace\",\"Paytm\")\n",
    "df[\"StartupName\"]=df[\"StartupName\"].replace(\"Olacabs\",\"Ola\")\n",
    "df[\"StartupName\"]=df[\"StartupName\"].replace(\"Ola Cabs\",\"Ola\")\n",
    "df[\"StartupName\"]=df[\"StartupName\"].replace(\"Oyo Rooms\",\"Oyo\")\n",
    "df[\"StartupName\"]=df[\"StartupName\"].replace(\"Oyorooms\",\"Oyo\")\n",
    "df[\"StartupName\"]=df[\"StartupName\"].replace(\"OyoRooms\",\"Oyo\")\n",
    "df[\"StartupName\"]=df[\"StartupName\"].replace(\"OYO Rooms\",\"Oyo\")\n",
    "start=df.groupby(\"StartupName\")[\"AmountInUSD\"].sum().sort_values(ascending=False)[:5]\n",
    "name=start.index\n",
    "for i in range(name.size):\n",
    "    print(name[i])"
   ]
  },
  {
   "cell_type": "code",
   "execution_count": null,
   "metadata": {},
   "outputs": [],
   "source": []
  }
 ],
 "metadata": {
  "kernelspec": {
   "display_name": "Python 3",
   "language": "python",
   "name": "python3"
  },
  "language_info": {
   "codemirror_mode": {
    "name": "ipython",
    "version": 3
   },
   "file_extension": ".py",
   "mimetype": "text/x-python",
   "name": "python",
   "nbconvert_exporter": "python",
   "pygments_lexer": "ipython3",
   "version": "3.8.3"
  }
 },
 "nbformat": 4,
 "nbformat_minor": 4
}
